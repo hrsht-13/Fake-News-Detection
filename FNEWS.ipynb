{
  "nbformat": 4,
  "nbformat_minor": 0,
  "metadata": {
    "colab": {
      "name": "FNEWS.ipynb",
      "provenance": [],
      "toc_visible": true
    },
    "kernelspec": {
      "name": "python3",
      "display_name": "Python 3"
    },
    "accelerator": "GPU"
  },
  "cells": [
    {
      "cell_type": "code",
      "metadata": {
        "id": "BO-hSqoDFINp",
        "colab_type": "code",
        "colab": {}
      },
      "source": [
        "import json\n",
        "import tensorflow as tf\n",
        "import numpy as np\n",
        "import pandas as pd\n",
        "from tensorflow.keras.preprocessing.text import Tokenizer\n",
        "from tensorflow.keras.preprocessing.sequence import pad_sequences"
      ],
      "execution_count": null,
      "outputs": []
    },
    {
      "cell_type": "code",
      "metadata": {
        "id": "P9cn2nIDGU69",
        "colab_type": "code",
        "colab": {}
      },
      "source": [
        "train=pd.read_csv(\"/content/drive/My Drive/fnews/train.csv\")\n",
        "val=pd.read_csv(\"/content/drive/My Drive/fnews/val.csv\")"
      ],
      "execution_count": null,
      "outputs": []
    },
    {
      "cell_type": "code",
      "metadata": {
        "id": "Xar8Ottbn4zP",
        "colab_type": "code",
        "colab": {}
      },
      "source": [
        "test=pd.read_csv(\"/content/drive/My Drive/fnews/test.csv\")\n",
        "sub=pd.read_csv(\"/content/sample_submission.csv\")"
      ],
      "execution_count": null,
      "outputs": []
    },
    {
      "cell_type": "code",
      "metadata": {
        "id": "IQh703YVIALe",
        "colab_type": "code",
        "colab": {
          "base_uri": "https://localhost:8080/",
          "height": 195
        },
        "outputId": "1aed1700-6fd5-4d5a-bb8a-a20e052389d2"
      },
      "source": [
        "train.head()"
      ],
      "execution_count": null,
      "outputs": [
        {
          "output_type": "execute_result",
          "data": {
            "text/html": [
              "<div>\n",
              "<style scoped>\n",
              "    .dataframe tbody tr th:only-of-type {\n",
              "        vertical-align: middle;\n",
              "    }\n",
              "\n",
              "    .dataframe tbody tr th {\n",
              "        vertical-align: top;\n",
              "    }\n",
              "\n",
              "    .dataframe thead th {\n",
              "        text-align: right;\n",
              "    }\n",
              "</style>\n",
              "<table border=\"1\" class=\"dataframe\">\n",
              "  <thead>\n",
              "    <tr style=\"text-align: right;\">\n",
              "      <th></th>\n",
              "      <th>text</th>\n",
              "      <th>label</th>\n",
              "    </tr>\n",
              "  </thead>\n",
              "  <tbody>\n",
              "    <tr>\n",
              "      <th>0</th>\n",
              "      <td>The court granted by a 5-4 vote a request made...</td>\n",
              "      <td>real</td>\n",
              "    </tr>\n",
              "    <tr>\n",
              "      <th>1</th>\n",
              "      <td>\" Pennsylvania was a crucial swing state in th...</td>\n",
              "      <td>real</td>\n",
              "    </tr>\n",
              "    <tr>\n",
              "      <th>2</th>\n",
              "      <td>The company today is rolling out an update to ...</td>\n",
              "      <td>fake</td>\n",
              "    </tr>\n",
              "    <tr>\n",
              "      <th>3</th>\n",
              "      <td>When it comes to trade policy, Hillary Clinton...</td>\n",
              "      <td>real</td>\n",
              "    </tr>\n",
              "    <tr>\n",
              "      <th>4</th>\n",
              "      <td>S. stocks had their worst April start since 19...</td>\n",
              "      <td>real</td>\n",
              "    </tr>\n",
              "  </tbody>\n",
              "</table>\n",
              "</div>"
            ],
            "text/plain": [
              "                                                text label\n",
              "0  The court granted by a 5-4 vote a request made...  real\n",
              "1  \" Pennsylvania was a crucial swing state in th...  real\n",
              "2  The company today is rolling out an update to ...  fake\n",
              "3  When it comes to trade policy, Hillary Clinton...  real\n",
              "4  S. stocks had their worst April start since 19...  real"
            ]
          },
          "metadata": {
            "tags": []
          },
          "execution_count": 4
        }
      ]
    },
    {
      "cell_type": "code",
      "metadata": {
        "id": "adx8fvi-Ghe2",
        "colab_type": "code",
        "colab": {}
      },
      "source": [
        "train_text=train[\"text\"]\n",
        "train_label=train[\"label\"].map({\"fake\":0,\"real\":1})\n",
        "val_text=val[\"text\"]\n",
        "val_label=val[\"label\"].map({\"fake\":0,\"real\":1})"
      ],
      "execution_count": null,
      "outputs": []
    },
    {
      "cell_type": "code",
      "metadata": {
        "id": "tMHJOc3GoEx-",
        "colab_type": "code",
        "colab": {}
      },
      "source": [
        "test_text=test[\"text\"]"
      ],
      "execution_count": null,
      "outputs": []
    },
    {
      "cell_type": "code",
      "metadata": {
        "id": "F4PyNrjXGl6h",
        "colab_type": "code",
        "colab": {}
      },
      "source": [
        "vocab_size = 10000\n",
        "embedding_dim = 16\n",
        "max_length = 1288\n",
        "trunc_type='post'\n",
        "padding_type='post'\n",
        "oov_tok = \"<OOV>\""
      ],
      "execution_count": null,
      "outputs": []
    },
    {
      "cell_type": "code",
      "metadata": {
        "id": "9FEMjF8YG1po",
        "colab_type": "code",
        "colab": {}
      },
      "source": [
        "tokenizer = Tokenizer(num_words=vocab_size, oov_token=oov_tok)\n",
        "tokenizer.fit_on_texts(train_text)\n",
        "\n",
        "word_index = tokenizer.word_index\n",
        "\n",
        "training_sequences = tokenizer.texts_to_sequences(train_text)\n",
        "training_padded = pad_sequences(training_sequences, maxlen=max_length, padding=padding_type, truncating=trunc_type)\n",
        "\n",
        "val_sequences = tokenizer.texts_to_sequences(val_text)\n",
        "val_padded = pad_sequences(val_sequences, maxlen=max_length, padding=padding_type, truncating=trunc_type)"
      ],
      "execution_count": null,
      "outputs": []
    },
    {
      "cell_type": "code",
      "metadata": {
        "id": "vHWc0yH5G_26",
        "colab_type": "code",
        "colab": {
          "base_uri": "https://localhost:8080/",
          "height": 34
        },
        "outputId": "236f4c4f-0e52-4294-a842-86402fe8b8cb"
      },
      "source": [
        "vocab_size=len(word_index)\n",
        "len(word_index)"
      ],
      "execution_count": null,
      "outputs": [
        {
          "output_type": "execute_result",
          "data": {
            "text/plain": [
              "154673"
            ]
          },
          "metadata": {
            "tags": []
          },
          "execution_count": 10
        }
      ]
    },
    {
      "cell_type": "code",
      "metadata": {
        "id": "wBU9EJlgHvz7",
        "colab_type": "code",
        "colab": {}
      },
      "source": [
        "training_padded = np.array(training_padded)\n",
        "#training_labels = np.array(training_labels)\n",
        "val_padded = np.array(val_padded)\n",
        "#testing_labels = np.array(testing_labels)"
      ],
      "execution_count": null,
      "outputs": []
    },
    {
      "cell_type": "code",
      "metadata": {
        "id": "RJXi6b8HHFZT",
        "colab_type": "code",
        "colab": {}
      },
      "source": [
        "model1 = tf.keras.Sequential([\n",
        "    tf.keras.layers.Embedding(vocab_size, embedding_dim, input_length=max_length),\n",
        "    tf.keras.layers.GlobalAveragePooling1D(),\n",
        "    tf.keras.layers.Dense(24, activation='relu'),\n",
        "    tf.keras.layers.Dense(1, activation='sigmoid')\n",
        "])\n",
        "model1.compile(loss='binary_crossentropy',optimizer='adam',metrics=['accuracy'])"
      ],
      "execution_count": null,
      "outputs": []
    },
    {
      "cell_type": "code",
      "metadata": {
        "id": "SQr_P4uYHLXU",
        "colab_type": "code",
        "colab": {}
      },
      "source": [
        "reduce_lr = tf.keras.callbacks.ReduceLROnPlateau(monitor='val_loss', factor=0.2,\n",
        "                              patience=5, min_lr=0.01)\n",
        "Earlystop = tf.keras.callbacks.EarlyStopping(monitor='val_loss', patience=3)"
      ],
      "execution_count": null,
      "outputs": []
    },
    {
      "cell_type": "code",
      "metadata": {
        "id": "qW4elcLAHNuf",
        "colab_type": "code",
        "colab": {
          "base_uri": "https://localhost:8080/",
          "height": 286
        },
        "outputId": "b0269028-1f60-4f95-92e4-7643cf41b94c"
      },
      "source": [
        "model1.summary()"
      ],
      "execution_count": null,
      "outputs": [
        {
          "output_type": "stream",
          "text": [
            "Model: \"sequential\"\n",
            "_________________________________________________________________\n",
            "Layer (type)                 Output Shape              Param #   \n",
            "=================================================================\n",
            "embedding (Embedding)        (None, 1288, 16)          2474768   \n",
            "_________________________________________________________________\n",
            "global_average_pooling1d (Gl (None, 16)                0         \n",
            "_________________________________________________________________\n",
            "dense (Dense)                (None, 24)                408       \n",
            "_________________________________________________________________\n",
            "dense_1 (Dense)              (None, 1)                 25        \n",
            "=================================================================\n",
            "Total params: 2,475,201\n",
            "Trainable params: 2,475,201\n",
            "Non-trainable params: 0\n",
            "_________________________________________________________________\n"
          ],
          "name": "stdout"
        }
      ]
    },
    {
      "cell_type": "code",
      "metadata": {
        "id": "ahOPyMICHPz7",
        "colab_type": "code",
        "colab": {
          "base_uri": "https://localhost:8080/",
          "height": 487
        },
        "outputId": "a992c339-6789-42ff-893e-672a8365b582"
      },
      "source": [
        "num_epochs = 30\n",
        "history = model1.fit(training_padded, train_label, epochs=num_epochs, validation_data=(val_padded, val_label), verbose=2,callbacks=[Earlystop,reduce_lr],shuffle=False)"
      ],
      "execution_count": null,
      "outputs": [
        {
          "output_type": "stream",
          "text": [
            "Epoch 1/30\n",
            "7251/7251 - 306s - loss: 0.3193 - accuracy: 0.8653 - val_loss: 0.1836 - val_accuracy: 0.9315\n",
            "Epoch 2/30\n",
            "7251/7251 - 310s - loss: 0.1611 - accuracy: 0.9392 - val_loss: 0.1544 - val_accuracy: 0.9411\n",
            "Epoch 3/30\n",
            "7251/7251 - 308s - loss: 0.1383 - accuracy: 0.9481 - val_loss: 0.1444 - val_accuracy: 0.9446\n",
            "Epoch 4/30\n",
            "7251/7251 - 313s - loss: 0.1284 - accuracy: 0.9522 - val_loss: 0.1385 - val_accuracy: 0.9472\n",
            "Epoch 5/30\n",
            "7251/7251 - 310s - loss: 0.1224 - accuracy: 0.9548 - val_loss: 0.1355 - val_accuracy: 0.9486\n",
            "Epoch 6/30\n",
            "7251/7251 - 306s - loss: 0.1184 - accuracy: 0.9563 - val_loss: 0.1337 - val_accuracy: 0.9492\n",
            "Epoch 7/30\n",
            "7251/7251 - 309s - loss: 0.1154 - accuracy: 0.9573 - val_loss: 0.1329 - val_accuracy: 0.9496\n",
            "Epoch 8/30\n",
            "7251/7251 - 312s - loss: 0.1127 - accuracy: 0.9584 - val_loss: 0.1320 - val_accuracy: 0.9504\n",
            "Epoch 9/30\n",
            "7251/7251 - 309s - loss: 0.1100 - accuracy: 0.9593 - val_loss: 0.1308 - val_accuracy: 0.9506\n",
            "Epoch 10/30\n",
            "7251/7251 - 315s - loss: 0.1075 - accuracy: 0.9600 - val_loss: 0.1314 - val_accuracy: 0.9509\n",
            "Epoch 11/30\n",
            "7251/7251 - 314s - loss: 0.1054 - accuracy: 0.9609 - val_loss: 0.1308 - val_accuracy: 0.9508\n",
            "Epoch 12/30\n",
            "7251/7251 - 312s - loss: 0.1038 - accuracy: 0.9615 - val_loss: 0.1314 - val_accuracy: 0.9510\n",
            "Epoch 13/30\n",
            "7251/7251 - 310s - loss: 0.1022 - accuracy: 0.9621 - val_loss: 0.1310 - val_accuracy: 0.9510\n",
            "Epoch 14/30\n",
            "7251/7251 - 315s - loss: 0.1007 - accuracy: 0.9627 - val_loss: 0.1309 - val_accuracy: 0.9511\n"
          ],
          "name": "stdout"
        }
      ]
    },
    {
      "cell_type": "code",
      "metadata": {
        "id": "aIF0qfGWHmLH",
        "colab_type": "code",
        "colab": {
          "base_uri": "https://localhost:8080/",
          "height": 319
        },
        "outputId": "c1d66a0c-9b98-4c07-f51a-e5c79628f130"
      },
      "source": [
        "model3= tf.keras.Sequential([\n",
        "    tf.keras.layers.Embedding(vocab_size, embedding_dim, input_length=max_length),\n",
        "    tf.keras.layers.Conv1D(128, 5, activation='relu'),\n",
        "    tf.keras.layers.GlobalMaxPooling1D(),\n",
        "    tf.keras.layers.Dense(24, activation='relu'),\n",
        "    tf.keras.layers.Dense(1, activation='sigmoid')\n",
        "])\n",
        "model3.compile(loss='binary_crossentropy',optimizer='adam',metrics=['accuracy'])\n",
        "model3.summary()"
      ],
      "execution_count": null,
      "outputs": [
        {
          "output_type": "stream",
          "text": [
            "Model: \"sequential\"\n",
            "_________________________________________________________________\n",
            "Layer (type)                 Output Shape              Param #   \n",
            "=================================================================\n",
            "embedding (Embedding)        (None, 1288, 16)          2474768   \n",
            "_________________________________________________________________\n",
            "conv1d (Conv1D)              (None, 1284, 128)         10368     \n",
            "_________________________________________________________________\n",
            "global_max_pooling1d (Global (None, 128)               0         \n",
            "_________________________________________________________________\n",
            "dense (Dense)                (None, 24)                3096      \n",
            "_________________________________________________________________\n",
            "dense_1 (Dense)              (None, 1)                 25        \n",
            "=================================================================\n",
            "Total params: 2,488,257\n",
            "Trainable params: 2,488,257\n",
            "Non-trainable params: 0\n",
            "_________________________________________________________________\n"
          ],
          "name": "stdout"
        }
      ]
    },
    {
      "cell_type": "code",
      "metadata": {
        "id": "mMc7Rp4jI7w8",
        "colab_type": "code",
        "colab": {
          "base_uri": "https://localhost:8080/",
          "height": 185
        },
        "outputId": "8fd2f778-1268-4b8e-c184-471064f3d5f0"
      },
      "source": [
        "num_epochs = 40\n",
        "history = model3.fit(training_padded, train_label, epochs=num_epochs, validation_data=(val_padded, val_label), verbose=2,callbacks=[Earlystop,reduce_lr],shuffle=False)"
      ],
      "execution_count": null,
      "outputs": [
        {
          "output_type": "stream",
          "text": [
            "Epoch 1/40\n",
            "7251/7251 - 174s - loss: 0.1389 - accuracy: 0.9470 - val_loss: 0.0875 - val_accuracy: 0.9676\n",
            "Epoch 2/40\n",
            "7251/7251 - 172s - loss: 0.0573 - accuracy: 0.9800 - val_loss: 0.0825 - val_accuracy: 0.9713\n",
            "Epoch 3/40\n",
            "7251/7251 - 171s - loss: 0.0316 - accuracy: 0.9895 - val_loss: 0.1136 - val_accuracy: 0.9677\n",
            "Epoch 4/40\n",
            "7251/7251 - 172s - loss: 0.0195 - accuracy: 0.9934 - val_loss: 0.1205 - val_accuracy: 0.9697\n",
            "Epoch 5/40\n",
            "7251/7251 - 174s - loss: 0.0137 - accuracy: 0.9951 - val_loss: 0.1316 - val_accuracy: 0.9701\n"
          ],
          "name": "stdout"
        }
      ]
    },
    {
      "cell_type": "code",
      "metadata": {
        "id": "1VynVW20JB1a",
        "colab_type": "code",
        "colab": {
          "base_uri": "https://localhost:8080/",
          "height": 286
        },
        "outputId": "26b8788f-58df-48ad-ad26-843c2f64eb61"
      },
      "source": [
        "model4 = tf.keras.Sequential([\n",
        "    tf.keras.layers.Embedding(vocab_size, embedding_dim, input_length=max_length),\n",
        "    tf.keras.layers.Bidirectional(tf.keras.layers.LSTM(32)),\n",
        "    tf.keras.layers.Dense(24, activation='relu'),\n",
        "    tf.keras.layers.Dense(1, activation='sigmoid')\n",
        "])\n",
        "model4.compile(loss='binary_crossentropy',optimizer='adam',metrics=['accuracy'])\n",
        "model4.summary()"
      ],
      "execution_count": null,
      "outputs": [
        {
          "output_type": "stream",
          "text": [
            "Model: \"sequential\"\n",
            "_________________________________________________________________\n",
            "Layer (type)                 Output Shape              Param #   \n",
            "=================================================================\n",
            "embedding (Embedding)        (None, 1288, 16)          2474768   \n",
            "_________________________________________________________________\n",
            "bidirectional (Bidirectional (None, 64)                12544     \n",
            "_________________________________________________________________\n",
            "dense (Dense)                (None, 24)                1560      \n",
            "_________________________________________________________________\n",
            "dense_1 (Dense)              (None, 1)                 25        \n",
            "=================================================================\n",
            "Total params: 2,488,897\n",
            "Trainable params: 2,488,897\n",
            "Non-trainable params: 0\n",
            "_________________________________________________________________\n"
          ],
          "name": "stdout"
        }
      ]
    },
    {
      "cell_type": "code",
      "metadata": {
        "id": "De5DJm2ZJNun",
        "colab_type": "code",
        "colab": {
          "base_uri": "https://localhost:8080/",
          "height": 185
        },
        "outputId": "52e965b3-3433-4352-8fbb-f56326ad0ff3"
      },
      "source": [
        "num_epochs=40\n",
        "history = model4.fit(training_padded, train_label, epochs=num_epochs, validation_data=(val_padded, val_label), verbose=2,callbacks=[Earlystop,reduce_lr],shuffle=False)"
      ],
      "execution_count": null,
      "outputs": [
        {
          "output_type": "stream",
          "text": [
            "Epoch 1/40\n",
            "7251/7251 - 688s - loss: 0.1344 - accuracy: 0.9498 - val_loss: 0.1038 - val_accuracy: 0.9631\n",
            "Epoch 2/40\n",
            "7251/7251 - 701s - loss: 0.0759 - accuracy: 0.9725 - val_loss: 0.0876 - val_accuracy: 0.9700\n",
            "Epoch 3/40\n",
            "7251/7251 - 706s - loss: 0.0525 - accuracy: 0.9816 - val_loss: 0.0916 - val_accuracy: 0.9699\n",
            "Epoch 4/40\n",
            "7251/7251 - 705s - loss: 0.0363 - accuracy: 0.9875 - val_loss: 0.1094 - val_accuracy: 0.9683\n",
            "Epoch 5/40\n",
            "7251/7251 - 702s - loss: 0.0246 - accuracy: 0.9922 - val_loss: 0.0946 - val_accuracy: 0.9732\n"
          ],
          "name": "stdout"
        }
      ]
    },
    {
      "cell_type": "code",
      "metadata": {
        "id": "cE4SrhAAm8jV",
        "colab_type": "code",
        "colab": {}
      },
      "source": [
        "val_pred=model4.predict(val_padded)"
      ],
      "execution_count": null,
      "outputs": []
    },
    {
      "cell_type": "code",
      "metadata": {
        "id": "hJoldwA5m-SM",
        "colab_type": "code",
        "colab": {}
      },
      "source": [
        "pred=[]\n",
        "for i in val_pred:\n",
        "  if(i<0.5):\n",
        "    pred.append(0)\n",
        "  else:\n",
        "    pred.append(1)"
      ],
      "execution_count": null,
      "outputs": []
    },
    {
      "cell_type": "code",
      "metadata": {
        "id": "FcnXmhSanemT",
        "colab_type": "code",
        "colab": {
          "base_uri": "https://localhost:8080/",
          "height": 34
        },
        "outputId": "7dd9c39f-d336-47aa-d7e4-e258c4557d47"
      },
      "source": [
        "from sklearn.metrics import f1_score\n",
        "f1_score(val_label, pred )"
      ],
      "execution_count": null,
      "outputs": [
        {
          "output_type": "execute_result",
          "data": {
            "text/plain": [
              "0.9811650379428947"
            ]
          },
          "metadata": {
            "tags": []
          },
          "execution_count": 63
        }
      ]
    },
    {
      "cell_type": "code",
      "metadata": {
        "id": "0JmoyGl_nxTO",
        "colab_type": "code",
        "colab": {}
      },
      "source": [
        "test_sequences = tokenizer.texts_to_sequences(test_text)\n",
        "test_padded = pad_sequences(test_sequences, maxlen=max_length, padding=padding_type, truncating=trunc_type)"
      ],
      "execution_count": null,
      "outputs": []
    },
    {
      "cell_type": "code",
      "metadata": {
        "id": "8z75-GIKoOIz",
        "colab_type": "code",
        "colab": {}
      },
      "source": [
        "test_pred=model4.predict(test_padded)"
      ],
      "execution_count": null,
      "outputs": []
    },
    {
      "cell_type": "code",
      "metadata": {
        "id": "DXMnBFSqoYNE",
        "colab_type": "code",
        "colab": {}
      },
      "source": [
        "pred1=[]\n",
        "for i in test_pred:\n",
        "  if(i<0.5):\n",
        "    pred1.append(\"fake\")\n",
        "  else:\n",
        "    pred1.append(\"real\")"
      ],
      "execution_count": null,
      "outputs": []
    },
    {
      "cell_type": "code",
      "metadata": {
        "id": "if4L_sqmpGqC",
        "colab_type": "code",
        "colab": {
          "base_uri": "https://localhost:8080/",
          "height": 34
        },
        "outputId": "6d277d05-a33a-4446-8d4a-c10e9eae288a"
      },
      "source": [
        "len(pred1)"
      ],
      "execution_count": null,
      "outputs": [
        {
          "output_type": "execute_result",
          "data": {
            "text/plain": [
              "115999"
            ]
          },
          "metadata": {
            "tags": []
          },
          "execution_count": 67
        }
      ]
    },
    {
      "cell_type": "code",
      "metadata": {
        "id": "nrbpMqkQoYTM",
        "colab_type": "code",
        "colab": {}
      },
      "source": [
        "sub[\"label\"]=pred1\n",
        "sub.to_csv(\"sub6.csv\",index=False)"
      ],
      "execution_count": null,
      "outputs": []
    },
    {
      "cell_type": "markdown",
      "metadata": {
        "id": "jMPucGkzfJ8r",
        "colab_type": "text"
      },
      "source": [
        "# WITHOUT STOP WORDS"
      ]
    },
    {
      "cell_type": "code",
      "metadata": {
        "id": "0e6A0FG5tQkx",
        "colab_type": "code",
        "colab": {
          "base_uri": "https://localhost:8080/",
          "height": 50
        },
        "outputId": "62cb1906-66e8-45d6-9ea3-363860362703"
      },
      "source": [
        "import nltk\n",
        "nltk.download(\"stopwords\")\n",
        "from nltk.corpus import stopwords \n",
        "stop_words = stopwords.words('english')"
      ],
      "execution_count": null,
      "outputs": [
        {
          "output_type": "stream",
          "text": [
            "[nltk_data] Downloading package stopwords to /root/nltk_data...\n",
            "[nltk_data]   Unzipping corpora/stopwords.zip.\n"
          ],
          "name": "stdout"
        }
      ]
    },
    {
      "cell_type": "code",
      "metadata": {
        "id": "GZurKCveFzTX",
        "colab_type": "code",
        "colab": {}
      },
      "source": [
        "train_sentences=[]\n",
        "for row in train_text:\n",
        "  for word in stop_words:\n",
        "    token = \" \" + word + \" \"\n",
        "    row = row.replace(token, \" \")\n",
        "  train_sentences.append(row)"
      ],
      "execution_count": null,
      "outputs": []
    },
    {
      "cell_type": "code",
      "metadata": {
        "id": "0nxP8j8_F6uK",
        "colab_type": "code",
        "colab": {}
      },
      "source": [
        "val_sentences=[]\n",
        "for row in val_text:\n",
        "  for word in stop_words:\n",
        "    token = \" \" + word + \" \"\n",
        "    row = row.replace(token, \" \")\n",
        "  val_sentences.append(row)"
      ],
      "execution_count": null,
      "outputs": []
    },
    {
      "cell_type": "code",
      "metadata": {
        "id": "OcyDe6kvGKGf",
        "colab_type": "code",
        "colab": {}
      },
      "source": [
        "tokenizer = Tokenizer(num_words=vocab_size, oov_token=oov_tok)\n",
        "tokenizer.fit_on_texts(train_sentences)\n",
        "\n",
        "word_index = tokenizer.word_index\n",
        "\n",
        "training_sequences = tokenizer.texts_to_sequences(train_sentences)\n",
        "training_padded = pad_sequences(training_sequences, maxlen=max_length, padding=padding_type, truncating=trunc_type)\n",
        "\n",
        "val_sequences = tokenizer.texts_to_sequences(val_sentences)\n",
        "val_padded = pad_sequences(val_sequences, maxlen=max_length, padding=padding_type, truncating=trunc_type)"
      ],
      "execution_count": null,
      "outputs": []
    },
    {
      "cell_type": "code",
      "metadata": {
        "id": "gmqdZHgqGUxo",
        "colab_type": "code",
        "colab": {
          "base_uri": "https://localhost:8080/",
          "height": 34
        },
        "outputId": "2b34edeb-619e-4300-af8f-0d2b2e339f50"
      },
      "source": [
        "vocab_size=len(word_index)\n",
        "len(word_index)"
      ],
      "execution_count": null,
      "outputs": [
        {
          "output_type": "execute_result",
          "data": {
            "text/plain": [
              "154671"
            ]
          },
          "metadata": {
            "tags": []
          },
          "execution_count": 13
        }
      ]
    },
    {
      "cell_type": "code",
      "metadata": {
        "id": "IqVRKfrzGZNb",
        "colab_type": "code",
        "colab": {}
      },
      "source": [
        "training_padded = np.array(training_padded)\n",
        "#training_labels = np.array(training_labels)\n",
        "val_padded = np.array(val_padded)\n",
        "#testing_labels = np.array(testing_labels)"
      ],
      "execution_count": null,
      "outputs": []
    },
    {
      "cell_type": "code",
      "metadata": {
        "id": "lMUaTGbPGfom",
        "colab_type": "code",
        "colab": {
          "base_uri": "https://localhost:8080/",
          "height": 286
        },
        "outputId": "8eed3370-8ff4-479e-9ddd-eeafc6a03790"
      },
      "source": [
        "model4 = tf.keras.Sequential([\n",
        "    tf.keras.layers.Embedding(vocab_size, embedding_dim, input_length=max_length),\n",
        "    tf.keras.layers.Bidirectional(tf.keras.layers.LSTM(32)),\n",
        "    tf.keras.layers.Dense(24, activation='relu'),\n",
        "    tf.keras.layers.Dense(1, activation='sigmoid')\n",
        "])\n",
        "model4.compile(loss='binary_crossentropy',optimizer='adam',metrics=['accuracy'])\n",
        "model4.summary()"
      ],
      "execution_count": null,
      "outputs": [
        {
          "output_type": "stream",
          "text": [
            "Model: \"sequential_1\"\n",
            "_________________________________________________________________\n",
            "Layer (type)                 Output Shape              Param #   \n",
            "=================================================================\n",
            "embedding_1 (Embedding)      (None, 1288, 16)          2474736   \n",
            "_________________________________________________________________\n",
            "bidirectional (Bidirectional (None, 64)                12544     \n",
            "_________________________________________________________________\n",
            "dense_2 (Dense)              (None, 24)                1560      \n",
            "_________________________________________________________________\n",
            "dense_3 (Dense)              (None, 1)                 25        \n",
            "=================================================================\n",
            "Total params: 2,488,865\n",
            "Trainable params: 2,488,865\n",
            "Non-trainable params: 0\n",
            "_________________________________________________________________\n"
          ],
          "name": "stdout"
        }
      ]
    },
    {
      "cell_type": "code",
      "metadata": {
        "id": "gMoNfreYGgF-",
        "colab_type": "code",
        "colab": {
          "base_uri": "https://localhost:8080/",
          "height": 185
        },
        "outputId": "4bc499d6-ff32-47ff-d71b-58569596209b"
      },
      "source": [
        "num_epochs = 30\n",
        "history = model4.fit(training_padded, train_label, epochs=num_epochs, validation_data=(val_padded, val_label), verbose=2,callbacks=[Earlystop,reduce_lr],shuffle=False)"
      ],
      "execution_count": null,
      "outputs": [
        {
          "output_type": "stream",
          "text": [
            "Epoch 1/30\n",
            "7251/7251 - 837s - loss: 0.1519 - accuracy: 0.9425 - val_loss: 0.1099 - val_accuracy: 0.9593\n",
            "Epoch 2/30\n",
            "7251/7251 - 868s - loss: 0.0871 - accuracy: 0.9680 - val_loss: 0.0973 - val_accuracy: 0.9652\n",
            "Epoch 3/30\n",
            "7251/7251 - 870s - loss: 0.0632 - accuracy: 0.9777 - val_loss: 0.1054 - val_accuracy: 0.9653\n",
            "Epoch 4/30\n",
            "7251/7251 - 870s - loss: 0.0446 - accuracy: 0.9850 - val_loss: 0.1228 - val_accuracy: 0.9629\n",
            "Epoch 5/30\n",
            "7251/7251 - 867s - loss: 0.0313 - accuracy: 0.9897 - val_loss: 0.1289 - val_accuracy: 0.9634\n"
          ],
          "name": "stdout"
        }
      ]
    },
    {
      "cell_type": "code",
      "metadata": {
        "id": "Tpi5g6iEGmcr",
        "colab_type": "code",
        "colab": {}
      },
      "source": [
        ""
      ],
      "execution_count": null,
      "outputs": []
    }
  ]
}